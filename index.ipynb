{
 "cells": [
  {
   "cell_type": "markdown",
   "metadata": {},
   "source": [
    "# JSON and XML - Lab"
   ]
  },
  {
   "cell_type": "markdown",
   "metadata": {},
   "source": [
    "## Introduction\n",
    "\n",
    "In this lab, we'll continue investigating new formats for datasets. Specifically, we'll investigate two of the most popular data formats for the web: JSON and XML including strenghts and weaknesses."
   ]
  },
  {
   "cell_type": "markdown",
   "metadata": {},
   "source": [
    "## Objectives\n",
    "You will be able to:\n",
    "* Effectively use the JSON module to load and parse JSON documents\n",
    "* Read and access data stored in JSON and XML\n",
    "* Compare  and contrast the JSON and XML as data interchange types\n"
   ]
  },
  {
   "cell_type": "markdown",
   "metadata": {},
   "source": [
    "## XML"
   ]
  },
  {
   "cell_type": "code",
   "execution_count": 2,
   "metadata": {},
   "outputs": [],
   "source": [
    "import xml.etree.ElementTree as ET"
   ]
  },
  {
   "cell_type": "markdown",
   "metadata": {},
   "source": [
    "### Create an XML tree and retrieve the root tag."
   ]
  },
  {
   "cell_type": "code",
   "execution_count": 3,
   "metadata": {},
   "outputs": [],
   "source": [
    "tree = ET.parse('nyc_2001_campaign_finance.xml')\n",
    "root=tree.getroot()"
   ]
  },
  {
   "cell_type": "markdown",
   "metadata": {},
   "source": [
    "### How many direct descendents does the root tag have?"
   ]
  },
  {
   "cell_type": "code",
   "execution_count": 5,
   "metadata": {},
   "outputs": [
    {
     "name": "stdout",
     "output_type": "stream",
     "text": [
      "1\n"
     ]
    }
   ],
   "source": [
    "count = 0\n",
    "for child in root:\n",
    "    count+=1\n",
    "print(count)"
   ]
  },
  {
   "cell_type": "markdown",
   "metadata": {},
   "source": [
    "### How many different types of tags are there within the entire XML file?"
   ]
  },
  {
   "cell_type": "code",
   "execution_count": 13,
   "metadata": {},
   "outputs": [
    {
     "name": "stdout",
     "output_type": "stream",
     "text": [
      "['response', 'row', 'row', 'candid', 'candname', 'officeboro', 'canclass', 'row', 'election', 'candid', 'candname', 'officecd', 'officedist', 'canclass', 'primarypay', 'generalpay', 'runoffpay', 'totalpay', 'row', 'election', 'candid', 'candname', 'officecd', 'officedist', 'canclass', 'primarypay', 'generalpay', 'runoffpay', 'totalpay', 'row', 'election', 'candid', 'candname', 'officecd', 'officedist', 'canclass', 'primarypay', 'generalpay', 'runoffpay', 'totalpay', 'row', 'election', 'candid', 'candname', 'officecd', 'officedist', 'canclass', 'primarypay', 'generalpay', 'runoffpay', 'totalpay', 'row', 'election', 'candid', 'candname', 'officecd', 'officedist', 'canclass', 'primarypay', 'generalpay', 'runoffpay', 'totalpay', 'row', 'election', 'candid', 'candname', 'officecd', 'officedist', 'canclass', 'primarypay', 'generalpay', 'runoffpay', 'totalpay', 'row', 'election', 'candid', 'candname', 'officecd', 'officedist', 'canclass', 'primarypay', 'generalpay', 'runoffpay', 'totalpay', 'row', 'election', 'candid', 'candname', 'officecd', 'officedist', 'canclass', 'primarypay', 'generalpay', 'runoffpay', 'totalpay', 'row', 'election', 'candid', 'candname', 'officecd', 'officedist', 'canclass', 'primarypay', 'generalpay', 'runoffpay', 'totalpay', 'row', 'election', 'candid', 'candname', 'officecd', 'officedist', 'canclass', 'primarypay', 'generalpay', 'runoffpay', 'totalpay', 'row', 'election', 'candid', 'candname', 'officecd', 'officedist', 'canclass', 'primarypay', 'generalpay', 'runoffpay', 'totalpay', 'row', 'election', 'candid', 'candname', 'officecd', 'canclass', 'primarypay', 'generalpay', 'runoffpay', 'totalpay', 'row', 'election', 'candid', 'candname', 'officecd', 'officedist', 'canclass', 'primarypay', 'generalpay', 'runoffpay', 'totalpay', 'row', 'election', 'candid', 'candname', 'officecd', 'officedist', 'canclass', 'primarypay', 'generalpay', 'runoffpay', 'totalpay', 'row', 'election', 'candid', 'candname', 'officecd', 'officedist', 'canclass', 'primarypay', 'generalpay', 'runoffpay', 'totalpay', 'row', 'election', 'candid', 'candname', 'officecd', 'officedist', 'canclass', 'primarypay', 'generalpay', 'runoffpay', 'totalpay', 'row', 'election', 'candid', 'candname', 'officecd', 'officedist', 'canclass', 'primarypay', 'generalpay', 'runoffpay', 'totalpay', 'row', 'election', 'candid', 'candname', 'officecd', 'officedist', 'canclass', 'primarypay', 'generalpay', 'runoffpay', 'totalpay', 'row', 'election', 'candid', 'candname', 'officecd', 'canclass', 'primarypay', 'generalpay', 'runoffpay', 'totalpay', 'row', 'election', 'candid', 'candname', 'officecd', 'officedist', 'canclass', 'primarypay', 'generalpay', 'runoffpay', 'totalpay', 'row', 'election', 'candid', 'candname', 'officecd', 'officedist', 'canclass', 'primarypay', 'generalpay', 'runoffpay', 'totalpay', 'row', 'election', 'candid', 'candname', 'officecd', 'officedist', 'canclass', 'primarypay', 'generalpay', 'runoffpay', 'totalpay', 'row', 'election', 'candid', 'candname', 'officecd', 'officedist', 'canclass', 'primarypay', 'generalpay', 'runoffpay', 'totalpay', 'row', 'election', 'candid', 'candname', 'officecd', 'officedist', 'canclass', 'primarypay', 'generalpay', 'runoffpay', 'totalpay', 'row', 'election', 'candid', 'candname', 'officecd', 'officedist', 'canclass', 'primarypay', 'generalpay', 'runoffpay', 'totalpay', 'row', 'election', 'candid', 'candname', 'officecd', 'officedist', 'canclass', 'primarypay', 'generalpay', 'runoffpay', 'totalpay', 'row', 'election', 'candid', 'candname', 'officecd', 'officedist', 'canclass', 'primarypay', 'generalpay', 'runoffpay', 'totalpay', 'row', 'election', 'candid', 'candname', 'officecd', 'officedist', 'canclass', 'primarypay', 'generalpay', 'runoffpay', 'totalpay', 'row', 'election', 'candid', 'candname', 'officecd', 'officedist', 'canclass', 'primarypay', 'generalpay', 'runoffpay', 'totalpay', 'row', 'election', 'candid', 'candname', 'officecd', 'officedist', 'canclass', 'primarypay', 'generalpay', 'runoffpay', 'totalpay', 'row', 'election', 'candid', 'candname', 'officecd', 'officeboro', 'canclass', 'primarypay', 'generalpay', 'runoffpay', 'totalpay', 'row', 'election', 'candid', 'candname', 'officecd', 'officedist', 'canclass', 'primarypay', 'generalpay', 'runoffpay', 'totalpay', 'row', 'election', 'candid', 'candname', 'officecd', 'officedist', 'canclass', 'primarypay', 'generalpay', 'runoffpay', 'totalpay', 'row', 'election', 'candid', 'candname', 'officecd', 'officedist', 'canclass', 'primarypay', 'generalpay', 'runoffpay', 'totalpay', 'row', 'election', 'candid', 'candname', 'officecd', 'officedist', 'canclass', 'primarypay', 'generalpay', 'runoffpay', 'totalpay', 'row', 'election', 'candid', 'candname', 'officecd', 'officedist', 'canclass', 'primarypay', 'generalpay', 'runoffpay', 'totalpay', 'row', 'election', 'candid', 'candname', 'officecd', 'officedist', 'canclass', 'primarypay', 'generalpay', 'runoffpay', 'totalpay', 'row', 'election', 'candid', 'candname', 'officecd', 'officedist', 'canclass', 'primarypay', 'generalpay', 'runoffpay', 'totalpay', 'row', 'election', 'candid', 'candname', 'officecd', 'officedist', 'canclass', 'primarypay', 'generalpay', 'runoffpay', 'totalpay', 'row', 'election', 'candid', 'candname', 'officecd', 'officedist', 'canclass', 'primarypay', 'generalpay', 'runoffpay', 'totalpay', 'row', 'election', 'candid', 'candname', 'officecd', 'officedist', 'canclass', 'primarypay', 'generalpay', 'runoffpay', 'totalpay', 'row', 'election', 'candid', 'candname', 'officecd', 'officedist', 'canclass', 'primarypay', 'generalpay', 'runoffpay', 'totalpay', 'row', 'election', 'candid', 'candname', 'officecd', 'officedist', 'canclass', 'primarypay', 'generalpay', 'runoffpay', 'totalpay', 'row', 'election', 'candid', 'candname', 'officecd', 'officedist', 'canclass', 'primarypay', 'generalpay', 'runoffpay', 'totalpay', 'row', 'election', 'candid', 'candname', 'officecd', 'canclass', 'primarypay', 'generalpay', 'runoffpay', 'totalpay', 'row', 'election', 'candid', 'candname', 'officecd', 'officedist', 'canclass', 'primarypay', 'generalpay', 'runoffpay', 'totalpay', 'row', 'election', 'candid', 'candname', 'officecd', 'officedist', 'canclass', 'primarypay', 'generalpay', 'runoffpay', 'totalpay', 'row', 'election', 'candid', 'candname', 'officecd', 'officedist', 'canclass', 'primarypay', 'generalpay', 'runoffpay', 'totalpay', 'row', 'election', 'candid', 'candname', 'officecd', 'officedist', 'canclass', 'primarypay', 'generalpay', 'runoffpay', 'totalpay', 'row', 'election', 'candid', 'candname', 'officecd', 'officedist', 'canclass', 'primarypay', 'generalpay', 'runoffpay', 'totalpay', 'row', 'election', 'candid', 'candname', 'officecd', 'officedist', 'canclass', 'primarypay', 'generalpay', 'runoffpay', 'totalpay', 'row', 'election', 'candid', 'candname', 'officecd', 'officedist', 'canclass', 'primarypay', 'generalpay', 'runoffpay', 'totalpay', 'row', 'election', 'candid', 'candname', 'officecd', 'officedist', 'canclass', 'primarypay', 'generalpay', 'runoffpay', 'totalpay', 'row', 'election', 'candid', 'candname', 'officecd', 'officedist', 'canclass', 'primarypay', 'generalpay', 'runoffpay', 'totalpay', 'row', 'election', 'candid', 'candname', 'officecd', 'officedist', 'canclass', 'primarypay', 'generalpay', 'runoffpay', 'totalpay', 'row', 'election', 'candid', 'candname', 'officecd', 'officedist', 'canclass', 'primarypay', 'generalpay', 'runoffpay', 'totalpay', 'row', 'election', 'candid', 'candname', 'officecd', 'officedist', 'canclass', 'primarypay', 'generalpay', 'runoffpay', 'totalpay', 'row', 'election', 'candid', 'candname', 'officecd', 'officedist', 'canclass', 'primarypay', 'generalpay', 'runoffpay', 'totalpay', 'row', 'election', 'candid', 'candname', 'officecd', 'canclass', 'primarypay', 'generalpay', 'runoffpay', 'totalpay', 'row', 'election', 'candid', 'candname', 'officecd', 'officedist', 'canclass', 'primarypay', 'generalpay', 'runoffpay', 'totalpay', 'row', 'election', 'candid', 'candname', 'officecd', 'officedist', 'canclass', 'primarypay', 'generalpay', 'runoffpay', 'totalpay', 'row', 'election', 'candid', 'candname', 'officecd', 'officedist', 'canclass', 'primarypay', 'generalpay', 'runoffpay', 'totalpay', 'row', 'election', 'candid', 'candname', 'officecd', 'officedist', 'canclass', 'primarypay', 'generalpay', 'runoffpay', 'totalpay', 'row', 'election', 'candid', 'candname', 'officecd', 'officeboro', 'canclass', 'primarypay', 'generalpay', 'runoffpay', 'totalpay', 'row', 'election', 'candid', 'candname', 'officecd', 'officeboro', 'canclass', 'primarypay', 'generalpay', 'runoffpay', 'totalpay', 'row', 'election', 'candid', 'candname', 'officecd', 'officedist', 'canclass', 'primarypay', 'generalpay', 'runoffpay', 'totalpay', 'row', 'election', 'candid', 'candname', 'officecd', 'officedist', 'canclass', 'primarypay', 'generalpay', 'runoffpay', 'totalpay', 'row', 'election', 'candid', 'candname', 'officecd', 'officedist', 'canclass', 'primarypay', 'generalpay', 'runoffpay', 'totalpay', 'row', 'election', 'candid', 'candname', 'officecd', 'officedist', 'canclass', 'primarypay', 'generalpay', 'runoffpay', 'totalpay', 'row', 'election', 'candid', 'candname', 'officecd', 'officedist', 'canclass', 'primarypay', 'generalpay', 'runoffpay', 'totalpay', 'row', 'election', 'candid', 'candname', 'officecd', 'officedist', 'canclass', 'primarypay', 'generalpay', 'runoffpay', 'totalpay', 'row', 'election', 'candid', 'candname', 'officecd', 'officedist', 'canclass', 'primarypay', 'generalpay', 'runoffpay', 'totalpay', 'row', 'election', 'candid', 'candname', 'officecd', 'canclass', 'primarypay', 'generalpay', 'runoffpay', 'totalpay', 'row', 'election', 'candid', 'candname', 'officecd', 'officedist', 'canclass', 'primarypay', 'generalpay', 'runoffpay', 'totalpay', 'row', 'election', 'candid', 'candname', 'officecd', 'officeboro', 'canclass', 'primarypay', 'generalpay', 'runoffpay', 'totalpay', 'row', 'election', 'candid', 'candname', 'officecd', 'officeboro', 'canclass', 'primarypay', 'generalpay', 'runoffpay', 'totalpay', 'row', 'election', 'candid', 'candname', 'officecd', 'officeboro', 'canclass', 'primarypay', 'generalpay', 'runoffpay', 'totalpay', 'row', 'election', 'candid', 'candname', 'officecd', 'canclass', 'primarypay', 'generalpay', 'runoffpay', 'totalpay', 'row', 'election', 'candid', 'candname', 'officecd', 'officedist', 'canclass', 'primarypay', 'generalpay', 'runoffpay', 'totalpay', 'row', 'election', 'candid', 'candname', 'officecd', 'officedist', 'canclass', 'primarypay', 'generalpay', 'runoffpay', 'totalpay', 'row', 'election', 'candid', 'candname', 'officecd', 'officedist', 'canclass', 'primarypay', 'generalpay', 'runoffpay', 'totalpay', 'row', 'election', 'candid', 'candname', 'officecd', 'officedist', 'canclass', 'primarypay', 'generalpay', 'runoffpay', 'totalpay', 'row', 'election', 'candid', 'candname', 'officecd', 'officedist', 'canclass', 'primarypay', 'generalpay', 'runoffpay', 'totalpay', 'row', 'election', 'candid', 'candname', 'officecd', 'canclass', 'primarypay', 'generalpay', 'runoffpay', 'totalpay', 'row', 'election', 'candid', 'candname', 'officecd', 'officedist', 'canclass', 'primarypay', 'generalpay', 'runoffpay', 'totalpay', 'row', 'election', 'candid', 'candname', 'officecd', 'officeboro', 'canclass', 'primarypay', 'generalpay', 'runoffpay', 'totalpay', 'row', 'election', 'candid', 'candname', 'officecd', 'officedist', 'canclass', 'primarypay', 'generalpay', 'runoffpay', 'totalpay', 'row', 'election', 'candid', 'candname', 'officecd', 'officedist', 'canclass', 'primarypay', 'generalpay', 'runoffpay', 'totalpay', 'row', 'election', 'candid', 'candname', 'officecd', 'officedist', 'canclass', 'primarypay', 'generalpay', 'runoffpay', 'totalpay', 'row', 'election', 'candid', 'candname', 'officecd', 'officedist', 'canclass', 'primarypay', 'generalpay', 'runoffpay', 'totalpay', 'row', 'election', 'candid', 'candname', 'officecd', 'officedist', 'canclass', 'primarypay', 'generalpay', 'runoffpay', 'totalpay', 'row', 'election', 'candid', 'candname', 'officecd', 'officedist', 'canclass', 'primarypay', 'generalpay', 'runoffpay', 'totalpay', 'row', 'election', 'candid', 'candname', 'officecd', 'canclass', 'primarypay', 'generalpay', 'runoffpay', 'totalpay', 'row', 'election', 'candid', 'candname', 'officecd', 'officedist', 'canclass', 'primarypay', 'generalpay', 'runoffpay', 'totalpay', 'row', 'election', 'candid', 'candname', 'officecd', 'officedist', 'canclass', 'primarypay', 'generalpay', 'runoffpay', 'totalpay', 'row', 'election', 'candid', 'candname', 'officecd', 'canclass', 'primarypay', 'generalpay', 'runoffpay', 'totalpay', 'row', 'election', 'candid', 'candname', 'officecd', 'officedist', 'canclass', 'primarypay', 'generalpay', 'runoffpay', 'totalpay', 'row', 'election', 'candid', 'candname', 'officecd', 'officedist', 'canclass', 'primarypay', 'generalpay', 'runoffpay', 'totalpay', 'row', 'election', 'candid', 'candname', 'officecd', 'canclass', 'primarypay', 'generalpay', 'runoffpay', 'totalpay', 'row', 'election', 'candid', 'candname', 'officecd', 'officedist', 'canclass', 'primarypay', 'generalpay', 'runoffpay', 'totalpay', 'row', 'election', 'candid', 'candname', 'officecd', 'officeboro', 'canclass', 'primarypay', 'generalpay', 'runoffpay', 'totalpay', 'row', 'election', 'candid', 'candname', 'officecd', 'officedist', 'canclass', 'primarypay', 'generalpay', 'runoffpay', 'totalpay', 'row', 'election', 'candid', 'candname', 'officecd', 'officedist', 'canclass', 'primarypay', 'generalpay', 'runoffpay', 'totalpay', 'row', 'election', 'candid', 'candname', 'officecd', 'officedist', 'canclass', 'primarypay', 'generalpay', 'runoffpay', 'totalpay', 'row', 'election', 'candid', 'candname', 'officecd', 'officedist', 'canclass', 'primarypay', 'generalpay', 'runoffpay', 'totalpay', 'row', 'election', 'candid', 'candname', 'officecd', 'officedist', 'canclass', 'primarypay', 'generalpay', 'runoffpay', 'totalpay', 'row', 'election', 'candid', 'candname', 'officecd', 'officedist', 'canclass', 'primarypay', 'generalpay', 'runoffpay', 'totalpay', 'row', 'election', 'candid', 'candname', 'officecd', 'canclass', 'primarypay', 'generalpay', 'runoffpay', 'totalpay', 'row', 'election', 'candid', 'candname', 'officecd', 'officedist', 'canclass', 'primarypay', 'generalpay', 'runoffpay', 'totalpay', 'row', 'election', 'candid', 'candname', 'officecd', 'officedist', 'canclass', 'primarypay', 'generalpay', 'runoffpay', 'totalpay', 'row', 'election', 'candid', 'candname', 'officecd', 'officedist', 'canclass', 'primarypay', 'generalpay', 'runoffpay', 'totalpay', 'row', 'election', 'candid', 'candname', 'officecd', 'officedist', 'canclass', 'primarypay', 'generalpay', 'runoffpay', 'totalpay', 'row', 'election', 'candid', 'candname', 'officecd', 'officedist', 'canclass', 'primarypay', 'generalpay', 'runoffpay', 'totalpay', 'row', 'election', 'candid', 'candname', 'officecd', 'officedist', 'canclass', 'primarypay', 'generalpay', 'runoffpay', 'totalpay', 'row', 'election', 'candid', 'candname', 'officecd', 'officedist', 'canclass', 'primarypay', 'generalpay', 'runoffpay', 'totalpay', 'row', 'election', 'candid', 'candname', 'officecd', 'officedist', 'canclass', 'primarypay', 'generalpay', 'runoffpay', 'totalpay', 'row', 'election', 'candid', 'candname', 'officecd', 'officedist', 'canclass', 'primarypay', 'generalpay', 'runoffpay', 'totalpay', 'row', 'election', 'candid', 'candname', 'officecd', 'officedist', 'canclass', 'primarypay', 'generalpay', 'runoffpay', 'totalpay', 'row', 'election', 'candid', 'candname', 'officecd', 'officedist', 'canclass', 'primarypay', 'generalpay', 'runoffpay', 'totalpay', 'row', 'election', 'candid', 'candname', 'officecd', 'officedist', 'canclass', 'primarypay', 'generalpay', 'runoffpay', 'totalpay', 'row', 'election', 'candid', 'candname', 'officecd', 'officedist', 'canclass', 'primarypay', 'generalpay', 'runoffpay', 'totalpay', 'row', 'election', 'candid', 'candname', 'officecd', 'officedist', 'canclass', 'primarypay', 'generalpay', 'runoffpay', 'totalpay', 'row', 'election', 'candid', 'candname', 'officecd', 'officedist', 'canclass', 'primarypay', 'generalpay', 'runoffpay', 'totalpay', 'row', 'election', 'candid', 'candname', 'officecd', 'officedist', 'canclass', 'primarypay', 'generalpay', 'runoffpay', 'totalpay', 'row', 'election', 'candid', 'candname', 'officecd', 'officedist', 'canclass', 'primarypay', 'generalpay', 'runoffpay', 'totalpay', 'row', 'election', 'candid', 'candname', 'officecd', 'officedist', 'canclass', 'primarypay', 'generalpay', 'runoffpay', 'totalpay', 'row', 'election', 'candid', 'candname', 'officecd', 'officedist', 'canclass', 'primarypay', 'generalpay', 'runoffpay', 'totalpay', 'row', 'election', 'candid', 'candname', 'officecd', 'officedist', 'canclass', 'primarypay', 'generalpay', 'runoffpay', 'totalpay', 'row', 'election', 'candid', 'candname', 'officecd', 'officedist', 'canclass', 'primarypay', 'generalpay', 'runoffpay', 'totalpay', 'row', 'election', 'candid', 'candname', 'officecd', 'officedist', 'canclass', 'primarypay', 'generalpay', 'runoffpay', 'totalpay', 'row', 'election', 'candid', 'candname', 'officecd', 'officedist', 'canclass', 'primarypay', 'generalpay', 'runoffpay', 'totalpay', 'row', 'election', 'candid', 'candname', 'officecd', 'officedist', 'canclass', 'primarypay', 'generalpay', 'runoffpay', 'totalpay', 'row', 'election', 'candid', 'candname', 'officecd', 'officedist', 'canclass', 'primarypay', 'generalpay', 'runoffpay', 'totalpay', 'row', 'election', 'candid', 'candname', 'officecd', 'officedist', 'canclass', 'primarypay', 'generalpay', 'runoffpay', 'totalpay', 'row', 'election', 'candid', 'candname', 'officecd', 'officedist', 'canclass', 'primarypay', 'generalpay', 'runoffpay', 'totalpay', 'row', 'election', 'candid', 'candname', 'officecd', 'canclass', 'primarypay', 'generalpay', 'runoffpay', 'totalpay', 'row', 'election', 'candid', 'candname', 'officecd', 'officedist', 'canclass', 'primarypay', 'generalpay', 'runoffpay', 'totalpay', 'row', 'election', 'candid', 'candname', 'officecd', 'officedist', 'canclass', 'primarypay', 'generalpay', 'runoffpay', 'totalpay', 'row', 'election', 'candid', 'candname', 'officecd', 'officeboro', 'canclass', 'primarypay', 'generalpay', 'runoffpay', 'totalpay', 'row', 'election', 'candid', 'candname', 'officecd', 'officeboro', 'canclass', 'primarypay', 'generalpay', 'runoffpay', 'totalpay', 'row', 'election', 'candid', 'candname', 'officecd', 'canclass', 'primarypay', 'generalpay', 'runoffpay', 'totalpay', 'row', 'election', 'candid', 'candname', 'officecd', 'officedist', 'canclass', 'primarypay', 'generalpay', 'runoffpay', 'totalpay', 'row', 'election', 'candid', 'candname', 'officecd', 'officedist', 'canclass', 'primarypay', 'generalpay', 'runoffpay', 'totalpay', 'row', 'election', 'candid', 'candname', 'officecd', 'officedist', 'canclass', 'primarypay', 'generalpay', 'runoffpay', 'totalpay', 'row', 'election', 'candid', 'candname', 'officecd', 'officedist', 'canclass', 'primarypay', 'generalpay', 'runoffpay', 'totalpay', 'row', 'election', 'candid', 'candname', 'officecd', 'officedist', 'canclass', 'primarypay', 'generalpay', 'runoffpay', 'totalpay', 'row', 'election', 'candid', 'candname', 'officecd', 'officedist', 'canclass', 'primarypay', 'generalpay', 'runoffpay', 'totalpay', 'row', 'election', 'candid', 'candname', 'officecd', 'officedist', 'canclass', 'primarypay', 'generalpay', 'runoffpay', 'totalpay', 'row', 'election', 'candid', 'candname', 'officecd', 'officedist', 'canclass', 'primarypay', 'generalpay', 'runoffpay', 'totalpay', 'row', 'election', 'candid', 'candname', 'officecd', 'officedist', 'canclass', 'primarypay', 'generalpay', 'runoffpay', 'totalpay', 'row', 'election', 'candid', 'candname', 'officecd', 'officedist', 'canclass', 'primarypay', 'generalpay', 'runoffpay', 'totalpay', 'row', 'election', 'candid', 'candname', 'officecd', 'officedist', 'canclass', 'primarypay', 'generalpay', 'runoffpay', 'totalpay', 'row', 'election', 'candid', 'candname', 'officecd', 'officeboro', 'canclass', 'primarypay', 'generalpay', 'runoffpay', 'totalpay', 'row', 'election', 'candid', 'candname', 'officecd', 'officedist', 'canclass', 'primarypay', 'generalpay', 'runoffpay', 'totalpay', 'row', 'election', 'candid', 'candname', 'officecd', 'officedist', 'canclass', 'primarypay', 'generalpay', 'runoffpay', 'totalpay', 'row', 'election', 'candid', 'candname', 'officecd', 'officeboro', 'canclass', 'primarypay', 'generalpay', 'runoffpay', 'totalpay', 'row', 'election', 'candid', 'candname', 'officecd', 'officeboro', 'canclass', 'primarypay', 'generalpay', 'runoffpay', 'totalpay', 'row', 'election', 'candid', 'candname', 'officecd', 'officedist', 'canclass', 'primarypay', 'generalpay', 'runoffpay', 'totalpay', 'row', 'election', 'candid', 'candname', 'officecd', 'officedist', 'canclass', 'primarypay', 'generalpay', 'runoffpay', 'totalpay', 'row', 'election', 'candid', 'candname', 'officecd', 'officedist', 'canclass', 'primarypay', 'generalpay', 'runoffpay', 'totalpay', 'row', 'election', 'candid', 'candname', 'officecd', 'officedist', 'canclass', 'primarypay', 'generalpay', 'runoffpay', 'totalpay', 'row', 'election', 'candid', 'candname', 'officecd', 'officedist', 'canclass', 'primarypay', 'generalpay', 'runoffpay', 'totalpay', 'row', 'election', 'candid', 'candname', 'officecd', 'officedist', 'canclass', 'primarypay', 'generalpay', 'runoffpay', 'totalpay', 'row', 'election', 'candid', 'candname', 'officecd', 'officedist', 'canclass', 'primarypay', 'generalpay', 'runoffpay', 'totalpay', 'row', 'election', 'candid', 'candname', 'officecd', 'officedist', 'canclass', 'primarypay', 'generalpay', 'runoffpay', 'totalpay', 'row', 'election', 'candid', 'candname', 'officecd', 'officedist', 'canclass', 'primarypay', 'generalpay', 'runoffpay', 'totalpay', 'row', 'election', 'candid', 'candname', 'officecd', 'officedist', 'canclass', 'primarypay', 'generalpay', 'runoffpay', 'totalpay', 'row', 'election', 'candid', 'candname', 'officecd', 'officedist', 'canclass', 'primarypay', 'generalpay', 'runoffpay', 'totalpay', 'row', 'election', 'candid', 'candname', 'officecd', 'officeboro', 'canclass', 'primarypay', 'generalpay', 'runoffpay', 'totalpay', 'row', 'election', 'candid', 'candname', 'officecd', 'officedist', 'canclass', 'primarypay', 'generalpay', 'runoffpay', 'totalpay', 'row', 'election', 'candid', 'candname', 'officecd', 'officedist', 'canclass', 'primarypay', 'generalpay', 'runoffpay', 'totalpay', 'row', 'election', 'candid', 'candname', 'officecd', 'officedist', 'canclass', 'primarypay', 'generalpay', 'runoffpay', 'totalpay', 'row', 'election', 'candid', 'candname', 'officecd', 'officedist', 'canclass', 'primarypay', 'generalpay', 'runoffpay', 'totalpay', 'row', 'election', 'candid', 'candname', 'officecd', 'officedist', 'canclass', 'primarypay', 'generalpay', 'runoffpay', 'totalpay', 'row', 'election', 'candid', 'candname', 'officecd', 'officedist', 'canclass', 'primarypay', 'generalpay', 'runoffpay', 'totalpay', 'row', 'election', 'candid', 'candname', 'officecd', 'officedist', 'canclass', 'primarypay', 'generalpay', 'runoffpay', 'totalpay', 'row', 'election', 'candid', 'candname', 'officecd', 'officedist', 'canclass', 'primarypay', 'generalpay', 'runoffpay', 'totalpay', 'row', 'election', 'candid', 'candname', 'officecd', 'officedist', 'canclass', 'primarypay', 'generalpay', 'runoffpay', 'totalpay', 'row', 'election', 'candid', 'candname', 'officecd', 'officeboro', 'canclass', 'primarypay', 'generalpay', 'runoffpay', 'totalpay', 'row', 'election', 'candid', 'candname', 'officecd', 'officeboro', 'canclass', 'primarypay', 'generalpay', 'runoffpay', 'totalpay', 'row', 'election', 'candid', 'candname', 'officecd', 'officedist', 'canclass', 'primarypay', 'generalpay', 'runoffpay', 'totalpay', 'row', 'election', 'candid', 'candname', 'officecd', 'officedist', 'canclass', 'primarypay', 'generalpay', 'runoffpay', 'totalpay', 'row', 'election', 'candid', 'candname', 'officecd', 'officedist', 'canclass', 'primarypay', 'generalpay', 'runoffpay', 'totalpay', 'row', 'election', 'candid', 'candname', 'officecd', 'officedist', 'canclass', 'primarypay', 'generalpay', 'runoffpay', 'totalpay', 'row', 'election', 'candid', 'candname', 'officecd', 'officedist', 'canclass', 'primarypay', 'generalpay', 'runoffpay', 'totalpay', 'row', 'election', 'candid', 'candname', 'officecd', 'officedist', 'canclass', 'primarypay', 'generalpay', 'runoffpay', 'totalpay', 'row', 'election', 'candid', 'candname', 'officecd', 'officedist', 'canclass', 'primarypay', 'generalpay', 'runoffpay', 'totalpay', 'row', 'election', 'candid', 'candname', 'officecd', 'officedist', 'canclass', 'primarypay', 'generalpay', 'runoffpay', 'totalpay', 'row', 'election', 'candid', 'candname', 'officecd', 'officedist', 'canclass', 'primarypay', 'generalpay', 'runoffpay', 'totalpay', 'row', 'election', 'candid', 'candname', 'officecd', 'officedist', 'canclass', 'primarypay', 'generalpay', 'runoffpay', 'totalpay', 'row', 'election', 'candid', 'candname', 'officecd', 'officedist', 'canclass', 'primarypay', 'generalpay', 'runoffpay', 'totalpay', 'row', 'election', 'candid', 'candname', 'officecd', 'officedist', 'canclass', 'primarypay', 'generalpay', 'runoffpay', 'totalpay', 'row', 'election', 'candid', 'candname', 'officecd', 'officedist', 'canclass', 'primarypay', 'generalpay', 'runoffpay', 'totalpay', 'row', 'election', 'candid', 'candname', 'officecd', 'officedist', 'canclass', 'primarypay', 'generalpay', 'runoffpay', 'totalpay', 'row', 'election', 'candid', 'candname', 'officecd', 'officedist', 'canclass', 'primarypay', 'generalpay', 'runoffpay', 'totalpay', 'row', 'election', 'candid', 'candname', 'officecd', 'officedist', 'canclass', 'primarypay', 'generalpay', 'runoffpay', 'totalpay', 'row', 'election', 'candid', 'candname', 'officecd', 'officedist', 'canclass', 'primarypay', 'generalpay', 'runoffpay', 'totalpay', 'row', 'election', 'candid', 'candname', 'officecd', 'officedist', 'canclass', 'primarypay', 'generalpay', 'runoffpay', 'totalpay', 'row', 'election', 'candid', 'candname', 'officecd', 'officedist', 'canclass', 'primarypay', 'generalpay', 'runoffpay', 'totalpay', 'row', 'election', 'candid', 'candname', 'officecd', 'officedist', 'canclass', 'primarypay', 'generalpay', 'runoffpay', 'totalpay', 'row', 'election', 'candid', 'candname', 'officecd', 'officedist', 'canclass', 'primarypay', 'generalpay', 'runoffpay', 'totalpay', 'row', 'election', 'candid', 'candname', 'officecd', 'officedist', 'canclass', 'primarypay', 'generalpay', 'runoffpay', 'totalpay', 'row', 'election', 'candid', 'candname', 'officecd', 'officedist', 'canclass', 'primarypay', 'generalpay', 'runoffpay', 'totalpay', 'row', 'election', 'candid', 'candname', 'officecd', 'officedist', 'canclass', 'primarypay', 'generalpay', 'runoffpay', 'totalpay', 'row', 'election', 'candid', 'candname', 'officecd', 'officedist', 'canclass', 'primarypay', 'generalpay', 'runoffpay', 'totalpay', 'row', 'election', 'candid', 'candname', 'officecd', 'officedist', 'canclass', 'primarypay', 'generalpay', 'runoffpay', 'totalpay', 'row', 'election', 'candid', 'candname', 'officecd', 'officedist', 'canclass', 'primarypay', 'generalpay', 'runoffpay', 'totalpay', 'row', 'election', 'candid', 'candname', 'officecd', 'officedist', 'canclass', 'primarypay', 'generalpay', 'runoffpay', 'totalpay', 'row', 'election', 'candid', 'candname', 'officecd', 'officedist', 'canclass', 'primarypay', 'generalpay', 'runoffpay', 'totalpay', 'row', 'election', 'candid', 'candname', 'officecd', 'officedist', 'canclass', 'primarypay', 'generalpay', 'runoffpay', 'totalpay', 'row', 'election', 'candid', 'candname', 'officecd', 'officedist', 'canclass', 'primarypay', 'generalpay', 'runoffpay', 'totalpay', 'row', 'election', 'candid', 'candname', 'officecd', 'officedist', 'canclass', 'primarypay', 'generalpay', 'runoffpay', 'totalpay', 'row', 'election', 'candid', 'candname', 'officecd', 'officedist', 'canclass', 'primarypay', 'generalpay', 'runoffpay', 'totalpay', 'row', 'election', 'candid', 'candname', 'officecd', 'officedist', 'canclass', 'primarypay', 'generalpay', 'runoffpay', 'totalpay', 'row', 'election', 'candid', 'candname', 'officecd', 'officedist', 'canclass', 'primarypay', 'generalpay', 'runoffpay', 'totalpay', 'row', 'election', 'candid', 'candname', 'officecd', 'officedist', 'canclass', 'primarypay', 'generalpay', 'runoffpay', 'totalpay', 'row', 'election', 'candid', 'candname', 'officecd', 'officedist', 'canclass', 'primarypay', 'generalpay', 'runoffpay', 'totalpay', 'row', 'election', 'candid', 'candname', 'officecd', 'officedist', 'canclass', 'primarypay', 'generalpay', 'runoffpay', 'totalpay', 'row', 'election', 'candid', 'candname', 'officecd', 'officedist', 'canclass', 'primarypay', 'generalpay', 'runoffpay', 'totalpay', 'row', 'election', 'candid', 'candname', 'officecd', 'officedist', 'canclass', 'primarypay', 'generalpay', 'runoffpay', 'totalpay', 'row', 'election', 'candid', 'candname', 'officecd', 'officedist', 'canclass', 'primarypay', 'generalpay', 'runoffpay', 'totalpay', 'row', 'election', 'candid', 'candname', 'officecd', 'officedist', 'canclass', 'primarypay', 'generalpay', 'runoffpay', 'totalpay', 'row', 'election', 'candid', 'candname', 'officecd', 'officedist', 'canclass', 'primarypay', 'generalpay', 'runoffpay', 'totalpay', 'row', 'election', 'candid', 'candname', 'officecd', 'officedist', 'canclass', 'primarypay', 'generalpay', 'runoffpay', 'totalpay', 'row', 'election', 'candid', 'candname', 'officecd', 'officedist', 'canclass', 'primarypay', 'generalpay', 'runoffpay', 'totalpay', 'row', 'election', 'candid', 'candname', 'officecd', 'officedist', 'canclass', 'primarypay', 'generalpay', 'runoffpay', 'totalpay', 'row', 'election', 'candid', 'candname', 'officecd', 'officedist', 'canclass', 'primarypay', 'generalpay', 'runoffpay', 'totalpay', 'row', 'election', 'candid', 'candname', 'officecd', 'officedist', 'canclass', 'primarypay', 'generalpay', 'runoffpay', 'totalpay', 'row', 'election', 'candid', 'candname', 'officecd', 'officedist', 'canclass', 'primarypay', 'generalpay', 'runoffpay', 'totalpay', 'row', 'election', 'candid', 'candname', 'officecd', 'canclass', 'primarypay', 'generalpay', 'runoffpay', 'totalpay', 'row', 'election', 'candid', 'candname', 'officecd', 'officedist', 'canclass', 'primarypay', 'generalpay', 'runoffpay', 'totalpay', 'row', 'election', 'candid', 'candname', 'officecd', 'officedist', 'canclass', 'primarypay', 'generalpay', 'runoffpay', 'totalpay', 'row', 'election', 'candid', 'candname', 'officecd', 'officedist', 'canclass', 'primarypay', 'generalpay', 'runoffpay', 'totalpay', 'row', 'election', 'candid', 'candname', 'officecd', 'officedist', 'canclass', 'primarypay', 'generalpay', 'runoffpay', 'totalpay', 'row', 'election', 'candid', 'candname', 'officecd', 'officedist', 'canclass', 'primarypay', 'generalpay', 'runoffpay', 'totalpay', 'row', 'election', 'candid', 'candname', 'officecd', 'officedist', 'canclass', 'primarypay', 'generalpay', 'runoffpay', 'totalpay', 'row', 'election', 'candid', 'candname', 'officecd', 'officedist', 'canclass', 'primarypay', 'generalpay', 'runoffpay', 'totalpay', 'row', 'election', 'candid', 'candname', 'officecd', 'officedist', 'canclass', 'primarypay', 'generalpay', 'runoffpay', 'totalpay', 'row', 'election', 'candid', 'candname', 'officecd', 'officedist', 'canclass', 'primarypay', 'generalpay', 'runoffpay', 'totalpay', 'row', 'election', 'candid', 'candname', 'officecd', 'canclass', 'primarypay', 'generalpay', 'runoffpay', 'totalpay', 'row', 'election', 'candid', 'candname', 'officecd', 'officeboro', 'canclass', 'primarypay', 'generalpay', 'runoffpay', 'totalpay', 'row', 'election', 'candid', 'candname', 'officecd', 'officedist', 'canclass', 'primarypay', 'generalpay', 'runoffpay', 'totalpay', 'row', 'election', 'candid', 'candname', 'officecd', 'officedist', 'canclass', 'primarypay', 'generalpay', 'runoffpay', 'totalpay', 'row', 'election', 'candid', 'candname', 'officecd', 'officeboro', 'canclass', 'primarypay', 'generalpay', 'runoffpay', 'totalpay', 'row', 'election', 'candid', 'candname', 'officecd', 'canclass', 'primarypay', 'generalpay', 'runoffpay', 'totalpay', 'row', 'election', 'candid', 'candname', 'officecd', 'officedist', 'canclass', 'primarypay', 'generalpay', 'runoffpay', 'totalpay', 'row', 'election', 'candid', 'candname', 'officecd', 'officedist', 'canclass', 'primarypay', 'generalpay', 'runoffpay', 'totalpay', 'row', 'election', 'candid', 'candname', 'officecd', 'officedist', 'canclass', 'primarypay', 'generalpay', 'runoffpay', 'totalpay', 'row', 'election', 'candid', 'candname', 'officecd', 'officedist', 'canclass', 'primarypay', 'generalpay', 'runoffpay', 'totalpay', 'row', 'election', 'candid', 'candname', 'officecd', 'officedist', 'canclass', 'primarypay', 'generalpay', 'runoffpay', 'totalpay', 'row', 'election', 'candid', 'candname', 'officecd', 'canclass', 'primarypay', 'generalpay', 'runoffpay', 'totalpay', 'row', 'election', 'candid', 'candname', 'officecd', 'officedist', 'canclass', 'primarypay', 'generalpay', 'runoffpay', 'totalpay', 'row', 'election', 'candid', 'candname', 'officecd', 'officedist', 'canclass', 'primarypay', 'generalpay', 'runoffpay', 'totalpay', 'row', 'election', 'candid', 'candname', 'officecd', 'officedist', 'canclass', 'primarypay', 'generalpay', 'runoffpay', 'totalpay', 'row', 'election', 'candid', 'candname', 'officecd', 'officedist', 'canclass', 'primarypay', 'generalpay', 'runoffpay', 'totalpay', 'row', 'election', 'candid', 'candname', 'officecd', 'officedist', 'canclass', 'primarypay', 'generalpay', 'runoffpay', 'totalpay', 'row', 'election', 'candid', 'candname', 'officecd', 'canclass', 'primarypay', 'generalpay', 'runoffpay', 'totalpay', 'row', 'election', 'candid', 'candname', 'officecd', 'officedist', 'canclass', 'primarypay', 'generalpay', 'runoffpay', 'totalpay', 'row', 'election', 'candid', 'candname', 'officecd', 'officedist', 'canclass', 'primarypay', 'generalpay', 'runoffpay', 'totalpay', 'row', 'election', 'candid', 'candname', 'officecd', 'officedist', 'canclass', 'primarypay', 'generalpay', 'runoffpay', 'totalpay', 'row', 'election', 'candid', 'candname', 'officecd', 'officedist', 'canclass', 'primarypay', 'generalpay', 'runoffpay', 'totalpay', 'row', 'election', 'candid', 'candname', 'officecd', 'officedist', 'canclass', 'primarypay', 'generalpay', 'runoffpay', 'totalpay', 'row', 'election', 'candid', 'candname', 'officecd', 'officedist', 'canclass', 'primarypay', 'generalpay', 'runoffpay', 'totalpay', 'row', 'election', 'candid', 'candname', 'officecd', 'officedist', 'canclass', 'primarypay', 'generalpay', 'runoffpay', 'totalpay', 'row', 'election', 'candid', 'candname', 'officecd', 'officedist', 'canclass', 'primarypay', 'generalpay', 'runoffpay', 'totalpay', 'row', 'election', 'candid', 'candname', 'officecd', 'officedist', 'canclass', 'primarypay', 'generalpay', 'runoffpay', 'totalpay', 'row', 'election', 'candid', 'candname', 'officecd', 'officeboro', 'canclass', 'primarypay', 'generalpay', 'runoffpay', 'totalpay', 'row', 'election', 'candid', 'candname', 'officecd', 'officedist', 'canclass', 'primarypay', 'generalpay', 'runoffpay', 'totalpay', 'row', 'election', 'candid', 'candname', 'officecd', 'officedist', 'canclass', 'primarypay', 'generalpay', 'runoffpay', 'totalpay', 'row', 'election', 'candid', 'candname', 'officecd', 'officedist', 'canclass', 'primarypay', 'generalpay', 'runoffpay', 'totalpay', 'row', 'election', 'candid', 'candname', 'officecd', 'officedist', 'canclass', 'primarypay', 'generalpay', 'runoffpay', 'totalpay', 'row', 'election', 'candid', 'candname', 'officecd', 'officedist', 'canclass', 'primarypay', 'generalpay', 'runoffpay', 'totalpay', 'row', 'election', 'candid', 'candname', 'officecd', 'officedist', 'canclass', 'primarypay', 'generalpay', 'runoffpay', 'totalpay', 'row', 'election', 'candid', 'candname', 'officecd', 'officedist', 'canclass', 'primarypay', 'generalpay', 'runoffpay', 'totalpay', 'row', 'election', 'candid', 'candname', 'officecd', 'canclass', 'primarypay', 'generalpay', 'runoffpay', 'totalpay', 'row', 'election', 'candid', 'candname', 'officecd', 'officedist', 'canclass', 'primarypay', 'generalpay', 'runoffpay', 'totalpay', 'row', 'election', 'candid', 'candname', 'officecd', 'officedist', 'canclass', 'primarypay', 'generalpay', 'runoffpay', 'totalpay', 'row', 'election', 'candid', 'candname', 'officecd', 'officeboro', 'canclass', 'primarypay', 'generalpay', 'runoffpay', 'totalpay', 'row', 'election', 'candid', 'candname', 'officecd', 'officedist', 'canclass', 'primarypay', 'generalpay', 'runoffpay', 'totalpay', 'row', 'election', 'candid', 'candname', 'officecd', 'officedist', 'canclass', 'primarypay', 'generalpay', 'runoffpay', 'totalpay', 'row', 'election', 'candid', 'candname', 'officecd', 'officedist', 'canclass', 'primarypay', 'generalpay', 'runoffpay', 'totalpay', 'row', 'election', 'candid', 'candname', 'officecd', 'officedist', 'canclass', 'primarypay', 'generalpay', 'runoffpay', 'totalpay', 'row', 'election', 'candid', 'candname', 'officecd', 'officedist', 'canclass', 'primarypay', 'generalpay', 'runoffpay', 'totalpay', 'row', 'election', 'candid', 'candname', 'officecd', 'officedist', 'canclass', 'primarypay', 'generalpay', 'runoffpay', 'totalpay']\n"
     ]
    }
   ],
   "source": [
    "billy = []\n",
    "for child in root.iter():\n",
    "    billy.append(child.tag)\n",
    "len(set(billy))\n",
    "print(billy)"
   ]
  },
  {
   "cell_type": "markdown",
   "metadata": {},
   "source": [
    "### Create a DataFrame listing the number of each type of tag. \n",
    "Sort the DataFrame in descending order by the tag count. The first entry should demonstrate there are 286 row tags in the XML file.   \n",
    "(Your DataFrame will be a single column, so could also be thought of as a Series.)"
   ]
  },
  {
   "cell_type": "code",
   "execution_count": 14,
   "metadata": {},
   "outputs": [],
   "source": [
    "import pandas as pd"
   ]
  },
  {
   "cell_type": "code",
   "execution_count": 22,
   "metadata": {},
   "outputs": [
    {
     "data": {
      "text/html": [
       "<div>\n",
       "<style scoped>\n",
       "    .dataframe tbody tr th:only-of-type {\n",
       "        vertical-align: middle;\n",
       "    }\n",
       "\n",
       "    .dataframe tbody tr th {\n",
       "        vertical-align: top;\n",
       "    }\n",
       "\n",
       "    .dataframe thead th {\n",
       "        text-align: right;\n",
       "    }\n",
       "</style>\n",
       "<table border=\"1\" class=\"dataframe\">\n",
       "  <thead>\n",
       "    <tr style=\"text-align: right;\">\n",
       "      <th></th>\n",
       "      <th>count</th>\n",
       "    </tr>\n",
       "  </thead>\n",
       "  <tbody>\n",
       "    <tr>\n",
       "      <th>row</th>\n",
       "      <td>286</td>\n",
       "    </tr>\n",
       "    <tr>\n",
       "      <th>candid</th>\n",
       "      <td>285</td>\n",
       "    </tr>\n",
       "    <tr>\n",
       "      <th>candname</th>\n",
       "      <td>285</td>\n",
       "    </tr>\n",
       "    <tr>\n",
       "      <th>canclass</th>\n",
       "      <td>285</td>\n",
       "    </tr>\n",
       "    <tr>\n",
       "      <th>election</th>\n",
       "      <td>284</td>\n",
       "    </tr>\n",
       "  </tbody>\n",
       "</table>\n",
       "</div>"
      ],
      "text/plain": [
       "          count\n",
       "row         286\n",
       "candid      285\n",
       "candname    285\n",
       "canclass    285\n",
       "election    284"
      ]
     },
     "execution_count": 22,
     "metadata": {},
     "output_type": "execute_result"
    }
   ],
   "source": [
    "tags = {}\n",
    "for element in root.iter():\n",
    "    tags[element.tag] = tags.get(element.tag, 0) + 1\n",
    "df = pd.DataFrame.from_dict(tags, orient='index')\n",
    "df.columns = ['count']\n",
    "df = df.sort_values(by='count', ascending=False)\n",
    "df.head()"
   ]
  },
  {
   "cell_type": "markdown",
   "metadata": {},
   "source": [
    "## JSON"
   ]
  },
  {
   "cell_type": "markdown",
   "metadata": {},
   "source": [
    "### Open the same dataset from json"
   ]
  },
  {
   "cell_type": "code",
   "execution_count": 19,
   "metadata": {},
   "outputs": [
    {
     "name": "stdout",
     "output_type": "stream",
     "text": [
      "<class 'dict'>\n"
     ]
    },
    {
     "data": {
      "text/plain": [
       "dict_keys(['meta', 'data'])"
      ]
     },
     "execution_count": 19,
     "metadata": {},
     "output_type": "execute_result"
    }
   ],
   "source": [
    "import json\n",
    "f = open('nyc_2001_campaign_finance.json')\n",
    "data=json.load(f)\n",
    "print(type(data))\n",
    "data.keys()"
   ]
  },
  {
   "cell_type": "markdown",
   "metadata": {},
   "source": [
    "### What is the root data type of the json file?"
   ]
  },
  {
   "cell_type": "code",
   "execution_count": 21,
   "metadata": {},
   "outputs": [
    {
     "data": {
      "text/html": [
       "<div>\n",
       "<style scoped>\n",
       "    .dataframe tbody tr th:only-of-type {\n",
       "        vertical-align: middle;\n",
       "    }\n",
       "\n",
       "    .dataframe tbody tr th {\n",
       "        vertical-align: top;\n",
       "    }\n",
       "\n",
       "    .dataframe thead th {\n",
       "        text-align: right;\n",
       "    }\n",
       "</style>\n",
       "<table border=\"1\" class=\"dataframe\">\n",
       "  <thead>\n",
       "    <tr style=\"text-align: right;\">\n",
       "      <th></th>\n",
       "      <th>view</th>\n",
       "    </tr>\n",
       "  </thead>\n",
       "  <tbody>\n",
       "    <tr>\n",
       "      <th>attribution</th>\n",
       "      <td>Campaign Finance Board (CFB)</td>\n",
       "    </tr>\n",
       "    <tr>\n",
       "      <th>averageRating</th>\n",
       "      <td>0</td>\n",
       "    </tr>\n",
       "    <tr>\n",
       "      <th>category</th>\n",
       "      <td>City Government</td>\n",
       "    </tr>\n",
       "    <tr>\n",
       "      <th>columns</th>\n",
       "      <td>[{'id': -1, 'name': 'sid', 'dataTypeName': 'me...</td>\n",
       "    </tr>\n",
       "    <tr>\n",
       "      <th>createdAt</th>\n",
       "      <td>1315950830</td>\n",
       "    </tr>\n",
       "    <tr>\n",
       "      <th>description</th>\n",
       "      <td>A listing of public funds payments for candida...</td>\n",
       "    </tr>\n",
       "    <tr>\n",
       "      <th>displayType</th>\n",
       "      <td>table</td>\n",
       "    </tr>\n",
       "    <tr>\n",
       "      <th>downloadCount</th>\n",
       "      <td>1470</td>\n",
       "    </tr>\n",
       "    <tr>\n",
       "      <th>flags</th>\n",
       "      <td>[default, restorable, restorePossibleForType]</td>\n",
       "    </tr>\n",
       "    <tr>\n",
       "      <th>grants</th>\n",
       "      <td>[{'inherited': False, 'type': 'viewer', 'flags...</td>\n",
       "    </tr>\n",
       "    <tr>\n",
       "      <th>hideFromCatalog</th>\n",
       "      <td>False</td>\n",
       "    </tr>\n",
       "    <tr>\n",
       "      <th>hideFromDataJson</th>\n",
       "      <td>False</td>\n",
       "    </tr>\n",
       "    <tr>\n",
       "      <th>id</th>\n",
       "      <td>8dhd-zvi6</td>\n",
       "    </tr>\n",
       "    <tr>\n",
       "      <th>indexUpdatedAt</th>\n",
       "      <td>1536596254</td>\n",
       "    </tr>\n",
       "    <tr>\n",
       "      <th>metadata</th>\n",
       "      <td>{'rdfSubject': '0', 'rdfClass': '', 'attachmen...</td>\n",
       "    </tr>\n",
       "    <tr>\n",
       "      <th>name</th>\n",
       "      <td>2001 Campaign Payments</td>\n",
       "    </tr>\n",
       "    <tr>\n",
       "      <th>newBackend</th>\n",
       "      <td>False</td>\n",
       "    </tr>\n",
       "    <tr>\n",
       "      <th>numberOfComments</th>\n",
       "      <td>0</td>\n",
       "    </tr>\n",
       "    <tr>\n",
       "      <th>oid</th>\n",
       "      <td>4140996</td>\n",
       "    </tr>\n",
       "    <tr>\n",
       "      <th>owner</th>\n",
       "      <td>{'id': '5fuc-pqz2', 'displayName': 'NYC OpenDa...</td>\n",
       "    </tr>\n",
       "    <tr>\n",
       "      <th>provenance</th>\n",
       "      <td>official</td>\n",
       "    </tr>\n",
       "    <tr>\n",
       "      <th>publicationAppendEnabled</th>\n",
       "      <td>False</td>\n",
       "    </tr>\n",
       "    <tr>\n",
       "      <th>publicationDate</th>\n",
       "      <td>1371845179</td>\n",
       "    </tr>\n",
       "    <tr>\n",
       "      <th>publicationGroup</th>\n",
       "      <td>240370</td>\n",
       "    </tr>\n",
       "    <tr>\n",
       "      <th>publicationStage</th>\n",
       "      <td>published</td>\n",
       "    </tr>\n",
       "    <tr>\n",
       "      <th>query</th>\n",
       "      <td>{}</td>\n",
       "    </tr>\n",
       "    <tr>\n",
       "      <th>rights</th>\n",
       "      <td>[read]</td>\n",
       "    </tr>\n",
       "    <tr>\n",
       "      <th>rowClass</th>\n",
       "      <td></td>\n",
       "    </tr>\n",
       "    <tr>\n",
       "      <th>rowsUpdatedAt</th>\n",
       "      <td>1371845177</td>\n",
       "    </tr>\n",
       "    <tr>\n",
       "      <th>rowsUpdatedBy</th>\n",
       "      <td>5fuc-pqz2</td>\n",
       "    </tr>\n",
       "    <tr>\n",
       "      <th>tableAuthor</th>\n",
       "      <td>{'id': '5fuc-pqz2', 'displayName': 'NYC OpenDa...</td>\n",
       "    </tr>\n",
       "    <tr>\n",
       "      <th>tableId</th>\n",
       "      <td>932968</td>\n",
       "    </tr>\n",
       "    <tr>\n",
       "      <th>tags</th>\n",
       "      <td>[finance, campaign finance board, cfb, nyccfb,...</td>\n",
       "    </tr>\n",
       "    <tr>\n",
       "      <th>totalTimesRated</th>\n",
       "      <td>0</td>\n",
       "    </tr>\n",
       "    <tr>\n",
       "      <th>viewCount</th>\n",
       "      <td>233</td>\n",
       "    </tr>\n",
       "    <tr>\n",
       "      <th>viewLastModified</th>\n",
       "      <td>1536605717</td>\n",
       "    </tr>\n",
       "    <tr>\n",
       "      <th>viewType</th>\n",
       "      <td>tabular</td>\n",
       "    </tr>\n",
       "  </tbody>\n",
       "</table>\n",
       "</div>"
      ],
      "text/plain": [
       "                                                                       view\n",
       "attribution                                    Campaign Finance Board (CFB)\n",
       "averageRating                                                             0\n",
       "category                                                    City Government\n",
       "columns                   [{'id': -1, 'name': 'sid', 'dataTypeName': 'me...\n",
       "createdAt                                                        1315950830\n",
       "description               A listing of public funds payments for candida...\n",
       "displayType                                                           table\n",
       "downloadCount                                                          1470\n",
       "flags                         [default, restorable, restorePossibleForType]\n",
       "grants                    [{'inherited': False, 'type': 'viewer', 'flags...\n",
       "hideFromCatalog                                                       False\n",
       "hideFromDataJson                                                      False\n",
       "id                                                                8dhd-zvi6\n",
       "indexUpdatedAt                                                   1536596254\n",
       "metadata                  {'rdfSubject': '0', 'rdfClass': '', 'attachmen...\n",
       "name                                                 2001 Campaign Payments\n",
       "newBackend                                                            False\n",
       "numberOfComments                                                          0\n",
       "oid                                                                 4140996\n",
       "owner                     {'id': '5fuc-pqz2', 'displayName': 'NYC OpenDa...\n",
       "provenance                                                         official\n",
       "publicationAppendEnabled                                              False\n",
       "publicationDate                                                  1371845179\n",
       "publicationGroup                                                     240370\n",
       "publicationStage                                                  published\n",
       "query                                                                    {}\n",
       "rights                                                               [read]\n",
       "rowClass                                                                   \n",
       "rowsUpdatedAt                                                    1371845177\n",
       "rowsUpdatedBy                                                     5fuc-pqz2\n",
       "tableAuthor               {'id': '5fuc-pqz2', 'displayName': 'NYC OpenDa...\n",
       "tableId                                                              932968\n",
       "tags                      [finance, campaign finance board, cfb, nyccfb,...\n",
       "totalTimesRated                                                           0\n",
       "viewCount                                                               233\n",
       "viewLastModified                                                 1536605717\n",
       "viewType                                                            tabular"
      ]
     },
     "execution_count": 21,
     "metadata": {},
     "output_type": "execute_result"
    }
   ],
   "source": [
    "df1 = pd.DataFrame.from_dict(data['meta'])\n",
    "df1"
   ]
  },
  {
   "cell_type": "markdown",
   "metadata": {},
   "source": [
    "### Navigate to the 'data' key of your loaded json object. What data type is this?"
   ]
  },
  {
   "cell_type": "code",
   "execution_count": null,
   "metadata": {},
   "outputs": [],
   "source": [
    "#Your code here"
   ]
  },
  {
   "cell_type": "markdown",
   "metadata": {},
   "source": [
    "### Preview the first entry from the value returned by the 'data' key above."
   ]
  },
  {
   "cell_type": "code",
   "execution_count": 24,
   "metadata": {},
   "outputs": [
    {
     "data": {
      "text/plain": [
       "list"
      ]
     },
     "execution_count": 24,
     "metadata": {},
     "output_type": "execute_result"
    }
   ],
   "source": [
    "type(data['data'])"
   ]
  },
  {
   "cell_type": "markdown",
   "metadata": {},
   "source": [
    "### Preview the Entry under meta -> view -> columns (the keys of three successively nested dictionaries)"
   ]
  },
  {
   "cell_type": "code",
   "execution_count": 25,
   "metadata": {},
   "outputs": [
    {
     "data": {
      "text/plain": [
       "[1,\n",
       " 'E3E9CC9F-7443-43F6-94AF-B5A0F802DBA1',\n",
       " 1,\n",
       " 1315925633,\n",
       " '392904',\n",
       " 1315925633,\n",
       " '392904',\n",
       " '{\\n  \"invalidCells\" : {\\n    \"1519001\" : \"TOTALPAY\",\\n    \"1518998\" : \"PRIMARYPAY\",\\n    \"1519000\" : \"RUNOFFPAY\",\\n    \"1518999\" : \"GENERALPAY\",\\n    \"1518994\" : \"OFFICECD\",\\n    \"1518996\" : \"OFFICEDIST\",\\n    \"1518991\" : \"ELECTION\"\\n  }\\n}',\n",
       " None,\n",
       " 'CANDID',\n",
       " 'CANDNAME',\n",
       " None,\n",
       " 'OFFICEBORO',\n",
       " None,\n",
       " 'CANCLASS',\n",
       " None,\n",
       " None,\n",
       " None,\n",
       " None]"
      ]
     },
     "execution_count": 25,
     "metadata": {},
     "output_type": "execute_result"
    }
   ],
   "source": [
    "data['data'][0]"
   ]
  },
  {
   "cell_type": "markdown",
   "metadata": {},
   "source": [
    "### Create a DataFrame from your json data\n",
    "The previous two questions previewed one entry from the data object within the json file, as well as the column details associated with that data from the meta entry within the json file. Both should have 19 entries. Create a DataFrame of the data. Be sure to use the information from the meta entry to add appropriate column names to your DataFrame."
   ]
  },
  {
   "cell_type": "code",
   "execution_count": null,
   "metadata": {},
   "outputs": [],
   "source": [
    "data['meta']"
   ]
  },
  {
   "cell_type": "markdown",
   "metadata": {},
   "source": [
    "### What's wrong with the first row of the DataFrame?"
   ]
  },
  {
   "cell_type": "code",
   "execution_count": null,
   "metadata": {},
   "outputs": [],
   "source": [
    "#Your code here"
   ]
  },
  {
   "cell_type": "markdown",
   "metadata": {},
   "source": [
    "#Your answer here"
   ]
  },
  {
   "cell_type": "markdown",
   "metadata": {},
   "source": [
    "## Summary\n",
    "\n",
    "Congratulations! You've started exploring some more complicated data structures used for the web and got to practice data munging and exploring!"
   ]
  }
 ],
 "metadata": {
  "kernelspec": {
   "display_name": "Python 3",
   "language": "python",
   "name": "python3"
  },
  "language_info": {
   "codemirror_mode": {
    "name": "ipython",
    "version": 3
   },
   "file_extension": ".py",
   "mimetype": "text/x-python",
   "name": "python",
   "nbconvert_exporter": "python",
   "pygments_lexer": "ipython3",
   "version": "3.6.6"
  }
 },
 "nbformat": 4,
 "nbformat_minor": 2
}
